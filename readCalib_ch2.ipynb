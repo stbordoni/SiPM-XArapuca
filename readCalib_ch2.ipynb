{
 "cells": [
  {
   "cell_type": "code",
   "execution_count": 5,
   "metadata": {},
   "outputs": [],
   "source": [
    "import numpy as np\n",
    "import pandas as pd \n",
    "import scipy as sp\n",
    "import scipy.io\n",
    "from scipy.stats import norm\n",
    "from scipy.stats import multivariate_normal\n",
    "from scipy.signal import find_peaks\n",
    "\n",
    "import matplotlib.pyplot as plt\n",
    "import matplotlib.colors as mcolors\n",
    "\n",
    "import os\n",
    "import glob\n",
    "import fnmatch\n",
    "import re\n",
    "import argparse\n",
    "\n",
    "import sys, getopt"
   ]
  },
  {
   "cell_type": "code",
   "execution_count": 6,
   "metadata": {},
   "outputs": [
    {
     "output_type": "execute_result",
     "data": {
      "text/plain": "   Unnamed: 0   0     1                              2   3   4   5   6   7  \\\n0           0   e  /pro        2020-03-04 14:35:38.993 NaN NaN NaN NaN NaN   \n1           1   e  /pro  2020-03-04 14:35:39.474252013 NaN NaN NaN NaN NaN   \n2           2   e  /pro  2020-03-04 14:35:39.524757315 NaN NaN NaN NaN NaN   \n3           3   e  /pro  2020-03-04 14:35:39.544113686 NaN NaN NaN NaN NaN   \n4           4   e  /pro  2020-03-04 14:35:39.559605878 NaN NaN NaN NaN NaN   \n\n    8  ...       50003  50004  Saturated     Pedestal  n pe    pe height  \\\n0 NaN  ...  384.813025   4864      False  4650.194975   0.0     0.000000   \n1 NaN  ...   61.321648   5376      False  4759.670352   1.0  5917.577648   \n2 NaN  ...  292.261950   5120      False  4702.810050   0.0     0.000000   \n3 NaN  ... -361.950553   4096      False  5062.110553   1.0  3696.161447   \n4 NaN  ...  260.975920   4608      False  4636.816080   0.0     0.000000   \n\n      pe width       pe area  spe 1sig  spe 2sig  \n0     0.000000  0.000000e+00     False     False  \n1  1091.412698  4.889310e+06      True      True  \n2     0.000000  0.000000e+00     False     False  \n3   994.468750  2.859028e+06      True      True  \n4     0.000000  0.000000e+00     False     False  \n\n[5 rows x 50014 columns]",
      "text/html": "<div>\n<style scoped>\n    .dataframe tbody tr th:only-of-type {\n        vertical-align: middle;\n    }\n\n    .dataframe tbody tr th {\n        vertical-align: top;\n    }\n\n    .dataframe thead th {\n        text-align: right;\n    }\n</style>\n<table border=\"1\" class=\"dataframe\">\n  <thead>\n    <tr style=\"text-align: right;\">\n      <th></th>\n      <th>Unnamed: 0</th>\n      <th>0</th>\n      <th>1</th>\n      <th>2</th>\n      <th>3</th>\n      <th>4</th>\n      <th>5</th>\n      <th>6</th>\n      <th>7</th>\n      <th>8</th>\n      <th>...</th>\n      <th>50003</th>\n      <th>50004</th>\n      <th>Saturated</th>\n      <th>Pedestal</th>\n      <th>n pe</th>\n      <th>pe height</th>\n      <th>pe width</th>\n      <th>pe area</th>\n      <th>spe 1sig</th>\n      <th>spe 2sig</th>\n    </tr>\n  </thead>\n  <tbody>\n    <tr>\n      <th>0</th>\n      <td>0</td>\n      <td>e</td>\n      <td>/pro</td>\n      <td>2020-03-04 14:35:38.993</td>\n      <td>NaN</td>\n      <td>NaN</td>\n      <td>NaN</td>\n      <td>NaN</td>\n      <td>NaN</td>\n      <td>NaN</td>\n      <td>...</td>\n      <td>384.813025</td>\n      <td>4864</td>\n      <td>False</td>\n      <td>4650.194975</td>\n      <td>0.0</td>\n      <td>0.000000</td>\n      <td>0.000000</td>\n      <td>0.000000e+00</td>\n      <td>False</td>\n      <td>False</td>\n    </tr>\n    <tr>\n      <th>1</th>\n      <td>1</td>\n      <td>e</td>\n      <td>/pro</td>\n      <td>2020-03-04 14:35:39.474252013</td>\n      <td>NaN</td>\n      <td>NaN</td>\n      <td>NaN</td>\n      <td>NaN</td>\n      <td>NaN</td>\n      <td>NaN</td>\n      <td>...</td>\n      <td>61.321648</td>\n      <td>5376</td>\n      <td>False</td>\n      <td>4759.670352</td>\n      <td>1.0</td>\n      <td>5917.577648</td>\n      <td>1091.412698</td>\n      <td>4.889310e+06</td>\n      <td>True</td>\n      <td>True</td>\n    </tr>\n    <tr>\n      <th>2</th>\n      <td>2</td>\n      <td>e</td>\n      <td>/pro</td>\n      <td>2020-03-04 14:35:39.524757315</td>\n      <td>NaN</td>\n      <td>NaN</td>\n      <td>NaN</td>\n      <td>NaN</td>\n      <td>NaN</td>\n      <td>NaN</td>\n      <td>...</td>\n      <td>292.261950</td>\n      <td>5120</td>\n      <td>False</td>\n      <td>4702.810050</td>\n      <td>0.0</td>\n      <td>0.000000</td>\n      <td>0.000000</td>\n      <td>0.000000e+00</td>\n      <td>False</td>\n      <td>False</td>\n    </tr>\n    <tr>\n      <th>3</th>\n      <td>3</td>\n      <td>e</td>\n      <td>/pro</td>\n      <td>2020-03-04 14:35:39.544113686</td>\n      <td>NaN</td>\n      <td>NaN</td>\n      <td>NaN</td>\n      <td>NaN</td>\n      <td>NaN</td>\n      <td>NaN</td>\n      <td>...</td>\n      <td>-361.950553</td>\n      <td>4096</td>\n      <td>False</td>\n      <td>5062.110553</td>\n      <td>1.0</td>\n      <td>3696.161447</td>\n      <td>994.468750</td>\n      <td>2.859028e+06</td>\n      <td>True</td>\n      <td>True</td>\n    </tr>\n    <tr>\n      <th>4</th>\n      <td>4</td>\n      <td>e</td>\n      <td>/pro</td>\n      <td>2020-03-04 14:35:39.559605878</td>\n      <td>NaN</td>\n      <td>NaN</td>\n      <td>NaN</td>\n      <td>NaN</td>\n      <td>NaN</td>\n      <td>NaN</td>\n      <td>...</td>\n      <td>260.975920</td>\n      <td>4608</td>\n      <td>False</td>\n      <td>4636.816080</td>\n      <td>0.0</td>\n      <td>0.000000</td>\n      <td>0.000000</td>\n      <td>0.000000e+00</td>\n      <td>False</td>\n      <td>False</td>\n    </tr>\n  </tbody>\n</table>\n<p>5 rows × 50014 columns</p>\n</div>"
     },
     "metadata": {},
     "execution_count": 6
    }
   ],
   "source": [
    "df_cal_ch2_1 = pd.read_csv(\"./calib_ch2_500files.csv\")\n",
    "df_cal_ch2_1.head()"
   ]
  },
  {
   "cell_type": "code",
   "execution_count": 7,
   "metadata": {},
   "outputs": [
    {
     "output_type": "execute_result",
     "data": {
      "text/plain": "   Unnamed: 0   0     1                        2   3   4   5   6   7   8  ...  \\\n0           0   e  /pro  2020-03-04 14:35:59.694 NaN NaN NaN NaN NaN NaN  ...   \n1           1   e  /pro  2020-03-04 14:35:59.716 NaN NaN NaN NaN NaN NaN  ...   \n2           2   e  /pro  2020-03-04 14:35:59.761 NaN NaN NaN NaN NaN NaN  ...   \n3           3   e  /pro  2020-03-04 14:35:59.796 NaN NaN NaN NaN NaN NaN  ...   \n4           4   e  /pro  2020-03-04 14:35:59.841 NaN NaN NaN NaN NaN NaN  ...   \n\n        50003  50004  Saturated     Pedestal  n pe  pe height    pe width  \\\n0  521.462995   4864      False  4737.801005   0.0      0.000    0.000000   \n1  335.043538   4608      False  4645.692462   0.0      0.000    0.000000   \n2  483.250814   5376      False  4777.037186   0.0      0.000    0.000000   \n3  522.240000   4352      False  4505.600000   1.0   4962.304  842.065217   \n4  236.703518   4352      False  4704.096482   0.0      0.000    0.000000   \n\n       pe area  spe 1sig  spe 2sig  \n0        0.000     False     False  \n1        0.000     False     False  \n2        0.000     False     False  \n3  3230931.968      True      True  \n4        0.000     False     False  \n\n[5 rows x 50014 columns]",
      "text/html": "<div>\n<style scoped>\n    .dataframe tbody tr th:only-of-type {\n        vertical-align: middle;\n    }\n\n    .dataframe tbody tr th {\n        vertical-align: top;\n    }\n\n    .dataframe thead th {\n        text-align: right;\n    }\n</style>\n<table border=\"1\" class=\"dataframe\">\n  <thead>\n    <tr style=\"text-align: right;\">\n      <th></th>\n      <th>Unnamed: 0</th>\n      <th>0</th>\n      <th>1</th>\n      <th>2</th>\n      <th>3</th>\n      <th>4</th>\n      <th>5</th>\n      <th>6</th>\n      <th>7</th>\n      <th>8</th>\n      <th>...</th>\n      <th>50003</th>\n      <th>50004</th>\n      <th>Saturated</th>\n      <th>Pedestal</th>\n      <th>n pe</th>\n      <th>pe height</th>\n      <th>pe width</th>\n      <th>pe area</th>\n      <th>spe 1sig</th>\n      <th>spe 2sig</th>\n    </tr>\n  </thead>\n  <tbody>\n    <tr>\n      <th>0</th>\n      <td>0</td>\n      <td>e</td>\n      <td>/pro</td>\n      <td>2020-03-04 14:35:59.694</td>\n      <td>NaN</td>\n      <td>NaN</td>\n      <td>NaN</td>\n      <td>NaN</td>\n      <td>NaN</td>\n      <td>NaN</td>\n      <td>...</td>\n      <td>521.462995</td>\n      <td>4864</td>\n      <td>False</td>\n      <td>4737.801005</td>\n      <td>0.0</td>\n      <td>0.000</td>\n      <td>0.000000</td>\n      <td>0.000</td>\n      <td>False</td>\n      <td>False</td>\n    </tr>\n    <tr>\n      <th>1</th>\n      <td>1</td>\n      <td>e</td>\n      <td>/pro</td>\n      <td>2020-03-04 14:35:59.716</td>\n      <td>NaN</td>\n      <td>NaN</td>\n      <td>NaN</td>\n      <td>NaN</td>\n      <td>NaN</td>\n      <td>NaN</td>\n      <td>...</td>\n      <td>335.043538</td>\n      <td>4608</td>\n      <td>False</td>\n      <td>4645.692462</td>\n      <td>0.0</td>\n      <td>0.000</td>\n      <td>0.000000</td>\n      <td>0.000</td>\n      <td>False</td>\n      <td>False</td>\n    </tr>\n    <tr>\n      <th>2</th>\n      <td>2</td>\n      <td>e</td>\n      <td>/pro</td>\n      <td>2020-03-04 14:35:59.761</td>\n      <td>NaN</td>\n      <td>NaN</td>\n      <td>NaN</td>\n      <td>NaN</td>\n      <td>NaN</td>\n      <td>NaN</td>\n      <td>...</td>\n      <td>483.250814</td>\n      <td>5376</td>\n      <td>False</td>\n      <td>4777.037186</td>\n      <td>0.0</td>\n      <td>0.000</td>\n      <td>0.000000</td>\n      <td>0.000</td>\n      <td>False</td>\n      <td>False</td>\n    </tr>\n    <tr>\n      <th>3</th>\n      <td>3</td>\n      <td>e</td>\n      <td>/pro</td>\n      <td>2020-03-04 14:35:59.796</td>\n      <td>NaN</td>\n      <td>NaN</td>\n      <td>NaN</td>\n      <td>NaN</td>\n      <td>NaN</td>\n      <td>NaN</td>\n      <td>...</td>\n      <td>522.240000</td>\n      <td>4352</td>\n      <td>False</td>\n      <td>4505.600000</td>\n      <td>1.0</td>\n      <td>4962.304</td>\n      <td>842.065217</td>\n      <td>3230931.968</td>\n      <td>True</td>\n      <td>True</td>\n    </tr>\n    <tr>\n      <th>4</th>\n      <td>4</td>\n      <td>e</td>\n      <td>/pro</td>\n      <td>2020-03-04 14:35:59.841</td>\n      <td>NaN</td>\n      <td>NaN</td>\n      <td>NaN</td>\n      <td>NaN</td>\n      <td>NaN</td>\n      <td>NaN</td>\n      <td>...</td>\n      <td>236.703518</td>\n      <td>4352</td>\n      <td>False</td>\n      <td>4704.096482</td>\n      <td>0.0</td>\n      <td>0.000</td>\n      <td>0.000000</td>\n      <td>0.000</td>\n      <td>False</td>\n      <td>False</td>\n    </tr>\n  </tbody>\n</table>\n<p>5 rows × 50014 columns</p>\n</div>"
     },
     "metadata": {},
     "execution_count": 7
    }
   ],
   "source": [
    "df_cal_ch2_2 = pd.read_csv(\"./calib_ch2_501-1000files.csv\")\n",
    "df_cal_ch2_2.head()"
   ]
  },
  {
   "cell_type": "code",
   "execution_count": 11,
   "metadata": {},
   "outputs": [
    {
     "output_type": "stream",
     "name": "stdout",
     "text": "full 1st dataset: (500, 50014)\nn pe > 0: (304, 50014)\nspe 1sig ==True: (301, 50014)\n"
    }
   ],
   "source": [
    "print('full 1st dataset:', df_cal_ch2_1.shape)\n",
    "print('n pe > 0:', df_cal_ch2_1.loc[df_cal_ch2_1['n pe']>0].shape)\n",
    "print('spe 1sig ==True:', df_cal_ch2_1.loc[df_cal_ch2_1['spe 1sig']==True].shape)\n"
   ]
  },
  {
   "cell_type": "code",
   "execution_count": 10,
   "metadata": {},
   "outputs": [
    {
     "output_type": "stream",
     "name": "stdout",
     "text": "full 2nd dataset: (499, 50014)\nn pe > 0: (311, 50014)\nspe 1sig ==True: (307, 50014)\n"
    }
   ],
   "source": [
    "print('full 2nd dataset:', df_cal_ch2_2.shape)\n",
    "print('n pe > 0:', df_cal_ch2_2.loc[df_cal_ch2_2['n pe']>0].shape)\n",
    "print('spe 1sig ==True:', df_cal_ch2_2.loc[df_cal_ch2_2['spe 1sig']==True].shape)\n"
   ]
  },
  {
   "cell_type": "code",
   "execution_count": null,
   "metadata": {},
   "outputs": [],
   "source": []
  }
 ],
 "metadata": {
  "language_info": {
   "codemirror_mode": {
    "name": "ipython",
    "version": 3
   },
   "file_extension": ".py",
   "mimetype": "text/x-python",
   "name": "python",
   "nbconvert_exporter": "python",
   "pygments_lexer": "ipython3",
   "version": "3.7.3-final"
  },
  "orig_nbformat": 2,
  "kernelspec": {
   "name": "python37364bitvenvvenv30237b5d730b4de39725a53348ee1d98",
   "display_name": "Python 3.7.3 64-bit ('venv': venv)"
  }
 },
 "nbformat": 4,
 "nbformat_minor": 2
}